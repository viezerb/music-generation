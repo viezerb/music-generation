{
 "cells": [
  {
   "cell_type": "code",
   "execution_count": 1,
   "metadata": {},
   "outputs": [],
   "source": [
    "import pandas as pd"
   ]
  },
  {
   "cell_type": "code",
   "execution_count": 43,
   "metadata": {},
   "outputs": [],
   "source": [
    "import glob\n",
    "import os"
   ]
  },
  {
   "cell_type": "code",
   "execution_count": 2,
   "metadata": {},
   "outputs": [
    {
     "name": "stdout",
     "output_type": "stream",
     "text": [
      "(387, 6)\n"
     ]
    },
    {
     "data": {
      "text/html": [
       "<div>\n",
       "<style scoped>\n",
       "    .dataframe tbody tr th:only-of-type {\n",
       "        vertical-align: middle;\n",
       "    }\n",
       "\n",
       "    .dataframe tbody tr th {\n",
       "        vertical-align: top;\n",
       "    }\n",
       "\n",
       "    .dataframe thead th {\n",
       "        text-align: right;\n",
       "    }\n",
       "</style>\n",
       "<table border=\"1\" class=\"dataframe\">\n",
       "  <thead>\n",
       "    <tr style=\"text-align: right;\">\n",
       "      <th></th>\n",
       "      <th>num_Q1</th>\n",
       "      <th>num_Q2</th>\n",
       "      <th>num_Q3</th>\n",
       "      <th>num_Q4</th>\n",
       "      <th>DominantQ</th>\n",
       "    </tr>\n",
       "    <tr>\n",
       "      <th>songID</th>\n",
       "      <th></th>\n",
       "      <th></th>\n",
       "      <th></th>\n",
       "      <th></th>\n",
       "      <th></th>\n",
       "    </tr>\n",
       "  </thead>\n",
       "  <tbody>\n",
       "    <tr>\n",
       "      <th>e8NQ2NH0nc8</th>\n",
       "      <td>2</td>\n",
       "      <td>0</td>\n",
       "      <td>0</td>\n",
       "      <td>0</td>\n",
       "      <td>1</td>\n",
       "    </tr>\n",
       "    <tr>\n",
       "      <th>HQ8ISDX6PiI</th>\n",
       "      <td>0</td>\n",
       "      <td>0</td>\n",
       "      <td>0</td>\n",
       "      <td>2</td>\n",
       "      <td>4</td>\n",
       "    </tr>\n",
       "    <tr>\n",
       "      <th>ZTrEoB8T9YA</th>\n",
       "      <td>0</td>\n",
       "      <td>3</td>\n",
       "      <td>0</td>\n",
       "      <td>0</td>\n",
       "      <td>2</td>\n",
       "    </tr>\n",
       "    <tr>\n",
       "      <th>3N2G21U7guk</th>\n",
       "      <td>3</td>\n",
       "      <td>0</td>\n",
       "      <td>0</td>\n",
       "      <td>4</td>\n",
       "      <td>4</td>\n",
       "    </tr>\n",
       "    <tr>\n",
       "      <th>_8v0MFBZoco</th>\n",
       "      <td>2</td>\n",
       "      <td>0</td>\n",
       "      <td>0</td>\n",
       "      <td>0</td>\n",
       "      <td>1</td>\n",
       "    </tr>\n",
       "  </tbody>\n",
       "</table>\n",
       "</div>"
      ],
      "text/plain": [
       "             num_Q1  num_Q2  num_Q3  num_Q4  DominantQ\n",
       "songID                                                \n",
       "e8NQ2NH0nc8       2       0       0       0          1\n",
       "HQ8ISDX6PiI       0       0       0       2          4\n",
       "ZTrEoB8T9YA       0       3       0       0          2\n",
       "3N2G21U7guk       3       0       0       4          4\n",
       "_8v0MFBZoco       2       0       0       0          1"
      ]
     },
     "execution_count": 2,
     "metadata": {},
     "output_type": "execute_result"
    }
   ],
   "source": [
    "src_csv = '../metadata_by_song.csv'\n",
    "data = pd.read_csv(src_csv)\n",
    "print(data.shape)\n",
    "data = data.set_index(\"songID\")\n",
    "data.head()"
   ]
  },
  {
   "cell_type": "code",
   "execution_count": 24,
   "metadata": {},
   "outputs": [],
   "source": [
    "def create_split(data, song_num=8, random_seed=1):\n",
    "    '''\n",
    "    Will return test data as an new dataframe.\n",
    "    Random sample song_num songs from each Q, \n",
    "    and the result of the number of clips will roughly be 1/10 in each Q.\n",
    "    '''\n",
    "    Q1 = data[data['DominantQ'] == 1]\n",
    "    Q2 = data[data['DominantQ'] == 2]\n",
    "    Q3 = data[data['DominantQ'] == 3]\n",
    "    Q4 = data[data['DominantQ'] == 4]\n",
    "    test_Q1 = Q1.sample(song_num, random_state=1)\n",
    "    test_Q2 = Q2.sample(song_num, random_state=1)\n",
    "    test_Q3 = Q3.sample(song_num, random_state=1)\n",
    "    test_Q4 = Q4.sample(song_num, random_state=1)\n",
    "    test_data = pd.concat([test_Q1, test_Q2, test_Q3, test_Q4])\n",
    "    print(test_data.sum(axis = 0))\n",
    "    return test_data"
   ]
  },
  {
   "cell_type": "code",
   "execution_count": 25,
   "metadata": {},
   "outputs": [
    {
     "name": "stdout",
     "output_type": "stream",
     "text": [
      "num_Q1       25\n",
      "num_Q2       19\n",
      "num_Q3       21\n",
      "num_Q4       23\n",
      "DominantQ    80\n",
      "dtype: int64\n"
     ]
    }
   ],
   "source": [
    "test_data = create_split(data)"
   ]
  },
  {
   "cell_type": "code",
   "execution_count": 26,
   "metadata": {},
   "outputs": [],
   "source": [
    "train_val = data.drop(labels = test_data.index, axis = 0, inplace = False)"
   ]
  },
  {
   "cell_type": "code",
   "execution_count": 27,
   "metadata": {},
   "outputs": [
    {
     "data": {
      "text/html": [
       "<div>\n",
       "<style scoped>\n",
       "    .dataframe tbody tr th:only-of-type {\n",
       "        vertical-align: middle;\n",
       "    }\n",
       "\n",
       "    .dataframe tbody tr th {\n",
       "        vertical-align: top;\n",
       "    }\n",
       "\n",
       "    .dataframe thead th {\n",
       "        text-align: right;\n",
       "    }\n",
       "</style>\n",
       "<table border=\"1\" class=\"dataframe\">\n",
       "  <thead>\n",
       "    <tr style=\"text-align: right;\">\n",
       "      <th></th>\n",
       "      <th>num_Q1</th>\n",
       "      <th>num_Q2</th>\n",
       "      <th>num_Q3</th>\n",
       "      <th>num_Q4</th>\n",
       "      <th>DominantQ</th>\n",
       "    </tr>\n",
       "    <tr>\n",
       "      <th>songID</th>\n",
       "      <th></th>\n",
       "      <th></th>\n",
       "      <th></th>\n",
       "      <th></th>\n",
       "      <th></th>\n",
       "    </tr>\n",
       "  </thead>\n",
       "  <tbody>\n",
       "    <tr>\n",
       "      <th>e8NQ2NH0nc8</th>\n",
       "      <td>2</td>\n",
       "      <td>0</td>\n",
       "      <td>0</td>\n",
       "      <td>0</td>\n",
       "      <td>1</td>\n",
       "    </tr>\n",
       "    <tr>\n",
       "      <th>HQ8ISDX6PiI</th>\n",
       "      <td>0</td>\n",
       "      <td>0</td>\n",
       "      <td>0</td>\n",
       "      <td>2</td>\n",
       "      <td>4</td>\n",
       "    </tr>\n",
       "    <tr>\n",
       "      <th>ZTrEoB8T9YA</th>\n",
       "      <td>0</td>\n",
       "      <td>3</td>\n",
       "      <td>0</td>\n",
       "      <td>0</td>\n",
       "      <td>2</td>\n",
       "    </tr>\n",
       "    <tr>\n",
       "      <th>3N2G21U7guk</th>\n",
       "      <td>3</td>\n",
       "      <td>0</td>\n",
       "      <td>0</td>\n",
       "      <td>4</td>\n",
       "      <td>4</td>\n",
       "    </tr>\n",
       "    <tr>\n",
       "      <th>_8v0MFBZoco</th>\n",
       "      <td>2</td>\n",
       "      <td>0</td>\n",
       "      <td>0</td>\n",
       "      <td>0</td>\n",
       "      <td>1</td>\n",
       "    </tr>\n",
       "  </tbody>\n",
       "</table>\n",
       "</div>"
      ],
      "text/plain": [
       "             num_Q1  num_Q2  num_Q3  num_Q4  DominantQ\n",
       "songID                                                \n",
       "e8NQ2NH0nc8       2       0       0       0          1\n",
       "HQ8ISDX6PiI       0       0       0       2          4\n",
       "ZTrEoB8T9YA       0       3       0       0          2\n",
       "3N2G21U7guk       3       0       0       4          4\n",
       "_8v0MFBZoco       2       0       0       0          1"
      ]
     },
     "execution_count": 27,
     "metadata": {},
     "output_type": "execute_result"
    }
   ],
   "source": [
    "train_val.head()"
   ]
  },
  {
   "cell_type": "code",
   "execution_count": 28,
   "metadata": {},
   "outputs": [
    {
     "name": "stdout",
     "output_type": "stream",
     "text": [
      "num_Q1       24\n",
      "num_Q2       30\n",
      "num_Q3       33\n",
      "num_Q4       27\n",
      "DominantQ    80\n",
      "dtype: int64\n"
     ]
    }
   ],
   "source": [
    "val_data = create_split(train_val)"
   ]
  },
  {
   "cell_type": "code",
   "execution_count": 29,
   "metadata": {},
   "outputs": [],
   "source": [
    "train_data = train_val.drop(labels = val_data.index, axis = 0, inplace = False)"
   ]
  },
  {
   "cell_type": "code",
   "execution_count": 30,
   "metadata": {},
   "outputs": [],
   "source": [
    "#make sure there is no song overlap between train, val, test\n",
    "assert len(set(train_data.index) & set(val_data.index)) == 0\n",
    "assert len(set(train_data.index) & set(test_data.index)) == 0\n",
    "assert len(set(test_data.index) & set(val_data.index)) == 0"
   ]
  },
  {
   "cell_type": "code",
   "execution_count": 31,
   "metadata": {},
   "outputs": [],
   "source": [
    "train_num = train_data.sum()\n",
    "val_num = val_data.sum()\n",
    "test_num = test_data.sum()"
   ]
  },
  {
   "cell_type": "code",
   "execution_count": 33,
   "metadata": {},
   "outputs": [],
   "source": [
    "def count_ratio(nums, Q=1):\n",
    "    total = sum([x['num_Q'+str(Q)] for x in nums])\n",
    "    print('train: {}'.format(nums[0]['num_Q'+ str(Q)] / total))\n",
    "    print('val  : {}'.format(nums[1]['num_Q'+ str(Q)] / total))\n",
    "    print('test : {}'.format(nums[2]['num_Q'+ str(Q)] / total))\n",
    "    "
   ]
  },
  {
   "cell_type": "code",
   "execution_count": 34,
   "metadata": {},
   "outputs": [
    {
     "name": "stdout",
     "output_type": "stream",
     "text": [
      "train: 0.804\n",
      "val  : 0.096\n",
      "test : 0.1\n"
     ]
    }
   ],
   "source": [
    "nums = [train_num, val_num, test_num]\n",
    "count_ratio(nums, Q=1)\n"
   ]
  },
  {
   "cell_type": "code",
   "execution_count": 38,
   "metadata": {},
   "outputs": [],
   "source": [
    "#save song level split\n",
    "train_data.to_csv('../split/train_SL.csv')\n",
    "val_data.to_csv('../split/val_SL.csv')\n",
    "test_data.to_csv('../split/test_SL.csv')"
   ]
  },
  {
   "cell_type": "code",
   "execution_count": 40,
   "metadata": {},
   "outputs": [],
   "source": [
    "data_root = '../midis'"
   ]
  },
  {
   "cell_type": "code",
   "execution_count": 49,
   "metadata": {},
   "outputs": [
    {
     "data": {
      "text/plain": [
       "45"
      ]
     },
     "execution_count": 49,
     "metadata": {},
     "output_type": "execute_result"
    }
   ],
   "source": [
    "len(data_root)"
   ]
  },
  {
   "cell_type": "code",
   "execution_count": 44,
   "metadata": {},
   "outputs": [],
   "source": [
    "midi_files = glob.glob(os.path.join(data_root, '*.mid'))"
   ]
  },
  {
   "cell_type": "code",
   "execution_count": 47,
   "metadata": {},
   "outputs": [],
   "source": [
    "split_dict = {}\n",
    "for song in train_data.index:\n",
    "    split_dict[song] = 'train'\n",
    "for song in val_data.index:\n",
    "    split_dict[song] = 'val'\n",
    "for song in test_data.index:\n",
    "    split_dict[song] = 'test'\n",
    "    "
   ]
  },
  {
   "cell_type": "code",
   "execution_count": 63,
   "metadata": {},
   "outputs": [],
   "source": [
    "train_clips = []\n",
    "val_clips = []\n",
    "test_clips = []\n",
    "\n",
    "for mid in midi_files:\n",
    "    filename = mid[46:67]\n",
    "    songname = filename[3:14]\n",
    "    if split_dict[songname] == 'train':\n",
    "        train_clips.append(filename)\n",
    "    if split_dict[songname] == 'val':\n",
    "        val_clips.append(filename)\n",
    "    if split_dict[songname] == 'test':\n",
    "        test_clips.append(filename)"
   ]
  },
  {
   "cell_type": "code",
   "execution_count": 68,
   "metadata": {},
   "outputs": [],
   "source": [
    "#save the clip lists\n",
    "train_df = pd.DataFrame({'clip_name': train_clips})\n",
    "train_df.to_csv('../split/train_clip.csv')\n",
    "\n",
    "val_df = pd.DataFrame({'clip_name': val_clips})\n",
    "val_df.to_csv('../split/val_clip.csv')\n",
    "\n",
    "test_df = pd.DataFrame({'clip_name': test_clips})\n",
    "test_df.to_csv('../split/test_clip.csv')"
   ]
  },
  {
   "cell_type": "code",
   "execution_count": null,
   "metadata": {},
   "outputs": [],
   "source": []
  }
 ],
 "metadata": {
  "kernelspec": {
   "display_name": "Python 3",
   "language": "python",
   "name": "python3"
  },
  "language_info": {
   "codemirror_mode": {
    "name": "ipython",
    "version": 3
   },
   "file_extension": ".py",
   "mimetype": "text/x-python",
   "name": "python",
   "nbconvert_exporter": "python",
   "pygments_lexer": "ipython3",
   "version": "3.7.3"
  }
 },
 "nbformat": 4,
 "nbformat_minor": 4
}
